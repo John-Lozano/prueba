{
 "cells": [
  {
   "cell_type": "markdown",
   "id": "fb31698b-bb36-4467-993b-b8129441b653",
   "metadata": {},
   "source": [
    "# Data Science Tools and Ecosystem"
   ]
  },
  {
   "cell_type": "markdown",
   "id": "426cacce-4d9e-44b4-ae97-8db9e078d70b",
   "metadata": {},
   "source": [
    "In this notebook, Data Science Tools and Ecosystem are summarized."
   ]
  },
  {
   "cell_type": "markdown",
   "id": "a385813f-77c4-476f-8def-1cf539d90c69",
   "metadata": {},
   "source": [
    "**Objectives:**\n",
    "- List popular languages for Data Science\n",
    "- List commonly used libraries for Data Science\n",
    "- List data science tools"
   ]
  },
  {
   "cell_type": "markdown",
   "id": "763a5273-39a2-4baa-8c5d-f52c0adfe5bf",
   "metadata": {},
   "source": [
    "Some of the popular languages that Data Scientists use are:"
   ]
  },
  {
   "cell_type": "markdown",
   "id": "9495af17-a77d-469b-b60b-b7439c0754dd",
   "metadata": {},
   "source": [
    "1. python\n",
    "2. C++\n",
    "3. JAVA"
   ]
  },
  {
   "cell_type": "markdown",
   "id": "ab0b1ae0-f779-4c4e-879c-44f0764d43d1",
   "metadata": {},
   "source": [
    "Some of the commonly used libraries used by Data Scientists include:"
   ]
  },
  {
   "cell_type": "markdown",
   "id": "c824949e-4f58-492f-8a32-151c44ed2052",
   "metadata": {},
   "source": [
    "1. ggplot2\n",
    "2. datasets\n",
    "3. dplyr"
   ]
  },
  {
   "cell_type": "markdown",
   "id": "6df1f21d-94ca-4c9f-9366-22c8e0cc6fce",
   "metadata": {},
   "source": [
    "|Data Science Tools |\n",
    "------------------- |\n",
    "|Rstudio |\n",
    "|Jupyter notebooks |\n",
    "|Github |"
   ]
  },
  {
   "cell_type": "markdown",
   "id": "71cb7d1b-55bf-49dd-9963-742c8fc617ec",
   "metadata": {},
   "source": [
    "### Below are a few examples of evaluating arithmetic expressions in Python"
   ]
  },
  {
   "cell_type": "code",
   "execution_count": 5,
   "id": "6a0a1886-2f67-44d9-86dd-af6821365aeb",
   "metadata": {},
   "outputs": [
    {
     "data": {
      "text/plain": [
       "17"
      ]
     },
     "execution_count": 5,
     "metadata": {},
     "output_type": "execute_result"
    }
   ],
   "source": [
    "# This a simple arithmetic expression to mutiply then add integers\n",
    "(3*4)+5"
   ]
  },
  {
   "cell_type": "code",
   "execution_count": 6,
   "id": "3c07580d-5e90-4cea-8e06-04db470bf166",
   "metadata": {},
   "outputs": [
    {
     "data": {
      "text/plain": [
       "3.3333333333333335"
      ]
     },
     "execution_count": 6,
     "metadata": {},
     "output_type": "execute_result"
    }
   ],
   "source": [
    "# This will convert 200 minutes to hours by diving by 60\n",
    "200/60"
   ]
  },
  {
   "cell_type": "markdown",
   "id": "b15d6d95-b425-44bd-a3d7-1ab3596f2546",
   "metadata": {},
   "source": [
    "## Autor\n",
    "John Lozano"
   ]
  },
  {
   "cell_type": "code",
   "execution_count": null,
   "id": "d135cdc9-6e78-4ffb-9544-5d7af28946ca",
   "metadata": {},
   "outputs": [],
   "source": []
  }
 ],
 "metadata": {
  "kernelspec": {
   "display_name": "Python 3 (ipykernel)",
   "language": "python",
   "name": "python3"
  },
  "language_info": {
   "codemirror_mode": {
    "name": "ipython",
    "version": 3
   },
   "file_extension": ".py",
   "mimetype": "text/x-python",
   "name": "python",
   "nbconvert_exporter": "python",
   "pygments_lexer": "ipython3",
   "version": "3.9.20"
  }
 },
 "nbformat": 4,
 "nbformat_minor": 5
}
